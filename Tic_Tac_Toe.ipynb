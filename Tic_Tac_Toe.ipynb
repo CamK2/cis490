{
  "nbformat": 4,
  "nbformat_minor": 0,
  "metadata": {
    "colab": {
      "name": "Tic_Tac_Toe.ipynb",
      "provenance": [],
      "authorship_tag": "ABX9TyN9oSSQiwG3CLzNFfw1k6zo",
      "include_colab_link": true
    },
    "kernelspec": {
      "name": "python3",
      "display_name": "Python 3"
    },
    "language_info": {
      "name": "python"
    }
  },
  "cells": [
    {
      "cell_type": "markdown",
      "metadata": {
        "id": "view-in-github",
        "colab_type": "text"
      },
      "source": [
        "<a href=\"https://colab.research.google.com/github/CamK2/cis490/blob/main/Tic_Tac_Toe.ipynb\" target=\"_parent\"><img src=\"https://colab.research.google.com/assets/colab-badge.svg\" alt=\"Open In Colab\"/></a>"
      ]
    },
    {
      "cell_type": "code",
      "execution_count": 14,
      "metadata": {
        "colab": {
          "base_uri": "https://localhost:8080/"
        },
        "id": "OrN71X47CuXg",
        "outputId": "95e6d327-1cbc-4485-d811-b9c1985b4715"
      },
      "outputs": [
        {
          "output_type": "stream",
          "name": "stdout",
          "text": [
            "0\n",
            "1\n",
            "1\n",
            "2\n",
            "2\n",
            "6\n",
            "3\n",
            "24\n",
            "4\n",
            "120\n",
            "5\n",
            "720\n",
            "6\n",
            "5040\n",
            "7\n",
            "40320\n",
            "8\n",
            "362880\n"
          ]
        }
      ],
      "source": [
        "#Tic Tac Toe number of possible games.\n",
        "\n",
        "\n",
        "\n",
        "answer=1\n",
        "for i in range(9):\n",
        "  print(i)\n",
        "\n",
        "  answer=answer*(i+1)\n",
        "  print(answer)"
      ]
    }
  ]
}