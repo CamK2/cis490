{
  "nbformat": 4,
  "nbformat_minor": 0,
  "metadata": {
    "colab": {
      "name": "Tic_Tac_Toe.ipynb",
      "provenance": [],
      "authorship_tag": "ABX9TyNz+FitshqITqGl/5fSHGoo",
      "include_colab_link": true
    },
    "kernelspec": {
      "name": "python3",
      "display_name": "Python 3"
    },
    "language_info": {
      "name": "python"
    }
  },
  "cells": [
    {
      "cell_type": "markdown",
      "metadata": {
        "id": "view-in-github",
        "colab_type": "text"
      },
      "source": [
        "<a href=\"https://colab.research.google.com/github/CamK2/cis490/blob/main/Tic_Tac_Toe.ipynb\" target=\"_parent\"><img src=\"https://colab.research.google.com/assets/colab-badge.svg\" alt=\"Open In Colab\"/></a>"
      ]
    },
    {
      "cell_type": "markdown",
      "source": [
        "**Tic Tac Toe**\n",
        "* Completely observable environment\n",
        "* Maximum 9 moves\n",
        "\n",
        "\n",
        "**Searches**\n",
        "* Breadth Search- chooses first option and sees result from there.\n",
        "* Depth Search- looks at all options to find the best one.\n"
      ],
      "metadata": {
        "id": "AX9zdl9ofznE"
      }
    },
    {
      "cell_type": "code",
      "execution_count": null,
      "metadata": {
        "colab": {
          "base_uri": "https://localhost:8080/"
        },
        "id": "OrN71X47CuXg",
        "outputId": "95e6d327-1cbc-4485-d811-b9c1985b4715"
      },
      "outputs": [
        {
          "output_type": "stream",
          "name": "stdout",
          "text": [
            "0\n",
            "1\n",
            "1\n",
            "2\n",
            "2\n",
            "6\n",
            "3\n",
            "24\n",
            "4\n",
            "120\n",
            "5\n",
            "720\n",
            "6\n",
            "5040\n",
            "7\n",
            "40320\n",
            "8\n",
            "362880\n"
          ]
        }
      ],
      "source": [
        "#Tic Tac Toe number of possible games.\n",
        "\n",
        "\n",
        "\n",
        "answer=1\n",
        "for i in range(9):\n",
        "  print(i)\n",
        "\n",
        "  answer=answer*(i+1)\n",
        "  print(answer)"
      ]
    },
    {
      "cell_type": "code",
      "source": [
        "# For the board, '-' represents empty cells, 'X' represents X cell, 'O' represents O cell\n",
        "board1 = ['-','-','-','-','-','-','-','-','-']\n",
        "board2 = ['X','-','-','-','-','-','-','-','-']\n",
        "board3 = ['-','-','-','-','-','-','-','-','X']\n",
        "board4 = ['-','-','-','-','X','-','-','-','-']\n",
        "board_41 = ['O','-','-','-','X','-','-','-','-']\n",
        "\n",
        "\n",
        "print(board)"
      ],
      "metadata": {
        "id": "yAC4fjQZh4gt",
        "outputId": "32fb63cc-388a-4d7c-90c6-629326c8328f",
        "colab": {
          "base_uri": "https://localhost:8080/"
        }
      },
      "execution_count": null,
      "outputs": [
        {
          "output_type": "stream",
          "name": "stdout",
          "text": [
            "['-', '-', '-', '-', '-', '-', '-', '-', '-']\n"
          ]
        }
      ]
    },
    {
      "cell_type": "code",
      "source": [
        "def print_board(b):\n",
        "  \"\"\"This function will pretty print a board\"\"\"\n",
        "  print(b[0:3], '\\n', b[3:6], '\\n', b[6:9])\n",
        "\n",
        "def valid_moves(b):\n",
        "  \"\"\" Return list of empty board cells, i.e. ones with a '-'\n",
        "  Given: \n",
        "                   0   1   2     3   4   5     6   7   8\n",
        "      board_41 = ['O','-','-',  '-','X','-',  '-','-','-']\n",
        "      \n",
        "  Return: [1,2,3,5,6,7,8]\n",
        "\n",
        "  Using \"APPEND\" METHOD\n",
        "  \"\"\"\n",
        "  counter = 0\n",
        "  l = []\n",
        "  for i in b:\n",
        "    if i == '-':\n",
        "      l.append(counter)\n",
        "    counter += 1\n",
        "  return l\n",
        "\n",
        "valid_moves(board_41)\n",
        "# print_board(board_41)"
      ],
      "metadata": {
        "id": "crAn-0CBiIcj",
        "outputId": "74657cb1-1193-40b3-e1f7-b6de1d351152",
        "colab": {
          "base_uri": "https://localhost:8080/"
        }
      },
      "execution_count": null,
      "outputs": [
        {
          "output_type": "execute_result",
          "data": {
            "text/plain": [
              "[1, 2, 3, 5, 6, 7, 8]"
            ]
          },
          "metadata": {},
          "execution_count": 27
        }
      ]
    },
    {
      "cell_type": "code",
      "source": [
        "def print_board(b):\n",
        "  \"\"\"This function will pretty print a board\"\"\"\n",
        "  print(b[0:3], '\\n', b[3:6], '\\n', b[6:9])\n",
        "\n",
        "def valid_moves(b):\n",
        "  \"\"\" Return list of empty board cells, i.e. ones with a '-'\n",
        "  Given: \n",
        "                   0   1   2     3   4   5     6   7   8\n",
        "      board_41 = ['O','-','-',  '-','X','-',  '-','-','-']\n",
        "\n",
        "  Return: [1,2,3,5,6,7,8]\n",
        "\n",
        "  Using Compact Method\n",
        "  \"\"\"\n",
        "  return [i for i, val in enumerate(b) if val=='-']\n",
        "\n",
        "\n",
        "print(valid_moves(board_41))\n",
        "# print_board(board_41)"
      ],
      "metadata": {
        "id": "XXqEkiman0CD",
        "outputId": "c5d4e7f2-8053-4c5e-bbdf-bad8591db449",
        "colab": {
          "base_uri": "https://localhost:8080/"
        }
      },
      "execution_count": null,
      "outputs": [
        {
          "output_type": "stream",
          "name": "stdout",
          "text": [
            "[1, 2, 3, 5, 6, 7, 8]\n"
          ]
        }
      ]
    },
    {
      "cell_type": "code",
      "source": [
        "3**9"
      ],
      "metadata": {
        "id": "UQ8cN405vuqf",
        "outputId": "cb9797f7-48e1-4e13-8916-380df6496e61",
        "colab": {
          "base_uri": "https://localhost:8080/"
        }
      },
      "execution_count": 1,
      "outputs": [
        {
          "output_type": "execute_result",
          "data": {
            "text/plain": [
              "19683"
            ]
          },
          "metadata": {},
          "execution_count": 1
        }
      ]
    }
  ]
}