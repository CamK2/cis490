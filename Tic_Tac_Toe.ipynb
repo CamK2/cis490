{
  "nbformat": 4,
  "nbformat_minor": 0,
  "metadata": {
    "colab": {
      "name": "Tic_Tac_Toe.ipynb",
      "provenance": [],
      "authorship_tag": "ABX9TyOI/f2olTDIzbX7jCp0wX3c",
      "include_colab_link": true
    },
    "kernelspec": {
      "name": "python3",
      "display_name": "Python 3"
    },
    "language_info": {
      "name": "python"
    }
  },
  "cells": [
    {
      "cell_type": "markdown",
      "metadata": {
        "id": "view-in-github",
        "colab_type": "text"
      },
      "source": [
        "<a href=\"https://colab.research.google.com/github/CamK2/cis490/blob/main/Tic_Tac_Toe.ipynb\" target=\"_parent\"><img src=\"https://colab.research.google.com/assets/colab-badge.svg\" alt=\"Open In Colab\"/></a>"
      ]
    },
    {
      "cell_type": "markdown",
      "source": [
        "**Tic Tac Toe**\n",
        "* Completely observable environment\n",
        "* Maximum 9 moves\n",
        "\n",
        "\n",
        "**Searches**\n",
        "* Breadth Search- chooses first option and sees result from there.\n",
        "* Depth Search- looks at all options to find the best one.\n"
      ],
      "metadata": {
        "id": "AX9zdl9ofznE"
      }
    },
    {
      "cell_type": "code",
      "execution_count": null,
      "metadata": {
        "colab": {
          "base_uri": "https://localhost:8080/"
        },
        "id": "OrN71X47CuXg",
        "outputId": "95e6d327-1cbc-4485-d811-b9c1985b4715"
      },
      "outputs": [
        {
          "output_type": "stream",
          "name": "stdout",
          "text": [
            "0\n",
            "1\n",
            "1\n",
            "2\n",
            "2\n",
            "6\n",
            "3\n",
            "24\n",
            "4\n",
            "120\n",
            "5\n",
            "720\n",
            "6\n",
            "5040\n",
            "7\n",
            "40320\n",
            "8\n",
            "362880\n"
          ]
        }
      ],
      "source": [
        "#Tic Tac Toe number of possible games.\n",
        "\n",
        "\n",
        "\n",
        "answer=1\n",
        "for i in range(9):\n",
        "  print(i)\n",
        "\n",
        "  answer=answer*(i+1)\n",
        "  print(answer)"
      ]
    },
    {
      "cell_type": "code",
      "source": [
        "# For the board, '-' represents empty cells, 'X' represents X cell, 'O' represents O cell\n",
        "board1 = ['-','-','-','-','-','-','-','-','-']\n",
        "board2 = ['X','-','-','-','-','-','-','-','-']\n",
        "board3 = ['-','-','-','-','-','-','-','-','X']\n",
        "board4 = ['-','-','-','-','X','-','-','-','-']\n",
        "board_41 = ['O','-','-','-','X','-','-','-','-']\n",
        "\n",
        "\n",
        "print(board1)"
      ],
      "metadata": {
        "id": "yAC4fjQZh4gt",
        "outputId": "e2e99b27-131e-4e5a-8e73-97a778aa9b34",
        "colab": {
          "base_uri": "https://localhost:8080/"
        }
      },
      "execution_count": 3,
      "outputs": [
        {
          "output_type": "stream",
          "name": "stdout",
          "text": [
            "['-', '-', '-', '-', '-', '-', '-', '-', '-']\n"
          ]
        }
      ]
    },
    {
      "cell_type": "code",
      "source": [
        "def print_board(b):\n",
        "  \"\"\"This function will pretty print a board\"\"\"\n",
        "  print(b[0:3], '\\n', b[3:6], '\\n', b[6:9])\n",
        "\n",
        "def valid_moves(b):\n",
        "  \"\"\" Return list of empty board cells, i.e. ones with a '-'\n",
        "  Given: \n",
        "                   0   1   2     3   4   5     6   7   8\n",
        "      board_41 = ['O','-','-',  '-','X','-',  '-','-','-']\n",
        "      \n",
        "  Return: [1,2,3,5,6,7,8]\n",
        "\n",
        "  Using \"APPEND\" Method \"\"\"\n",
        "  counter = 0\n",
        "  l = []\n",
        "  for i in b:\n",
        "    if i == '-':\n",
        "      l.append(counter)\n",
        "    counter += 1\n",
        "  return l\n",
        "\n",
        "valid_moves(board_41)\n",
        "# print_board(board_41)"
      ],
      "metadata": {
        "id": "crAn-0CBiIcj",
        "outputId": "74657cb1-1193-40b3-e1f7-b6de1d351152",
        "colab": {
          "base_uri": "https://localhost:8080/"
        }
      },
      "execution_count": null,
      "outputs": [
        {
          "output_type": "execute_result",
          "data": {
            "text/plain": [
              "[1, 2, 3, 5, 6, 7, 8]"
            ]
          },
          "metadata": {},
          "execution_count": 27
        }
      ]
    },
    {
      "cell_type": "code",
      "source": [
        "def print_board(b):\n",
        "  \"\"\"This function will pretty print a board\"\"\"\n",
        "  print(b[0:3], '\\n', b[3:6], '\\n', b[6:9])\n",
        "\n",
        "def valid_moves(b):\n",
        "  \"\"\" Return list of empty board cells, i.e. ones with a '-'\n",
        "  Given: \n",
        "                   0   1   2     3   4   5     6   7   8\n",
        "      board_41 = ['O','-','-',  '-','X','-',  '-','-','-']\n",
        "\n",
        "  Return: [1,2,3,5,6,7,8]\n",
        "\n",
        "  Using Compact Method\n",
        "  \"\"\"\n",
        "  return [i for i, val in enumerate(b) if val=='-']\n",
        "\n",
        "\n",
        "print(valid_moves(board_41))\n",
        "# print_board(board_41)"
      ],
      "metadata": {
        "id": "XXqEkiman0CD",
        "outputId": "ca626868-03ea-4691-e9bd-d70cb0f9f4d0",
        "colab": {
          "base_uri": "https://localhost:8080/"
        }
      },
      "execution_count": 4,
      "outputs": [
        {
          "output_type": "stream",
          "name": "stdout",
          "text": [
            "[1, 2, 3, 5, 6, 7, 8]\n"
          ]
        }
      ]
    },
    {
      "cell_type": "code",
      "source": [
        "3**9"
      ],
      "metadata": {
        "id": "UQ8cN405vuqf",
        "outputId": "cb9797f7-48e1-4e13-8916-380df6496e61",
        "colab": {
          "base_uri": "https://localhost:8080/"
        }
      },
      "execution_count": null,
      "outputs": [
        {
          "output_type": "execute_result",
          "data": {
            "text/plain": [
              "19683"
            ]
          },
          "metadata": {},
          "execution_count": 1
        }
      ]
    },
    {
      "cell_type": "code",
      "source": [
        "# NEW START\n",
        "\n",
        "board = ['-']*9\n",
        "print(board)\n",
        "board1 = ['X','X','X',  '-','-','-',  '-','-','-']\n",
        "\n",
        "def get_empty_cell_list(bo):\n",
        "  \"\"\" This function will return a list of empty cell indices \"\"\"\n",
        "  result = []\n",
        "  for pos in range(9):\n",
        "    if bo[pos] == '-':\n",
        "      result.append(pos)\n",
        "      #result += [pos]\n",
        "  return result\n",
        "\n",
        "get_empty_cell_list(board1)"
      ],
      "metadata": {
        "id": "GCTJsT6bnol6",
        "outputId": "fd3289b5-1e33-41a3-a939-f5cc8a499e5a",
        "colab": {
          "base_uri": "https://localhost:8080/"
        }
      },
      "execution_count": 6,
      "outputs": [
        {
          "output_type": "stream",
          "name": "stdout",
          "text": [
            "['-', '-', '-', '-', '-', '-', '-', '-', '-']\n"
          ]
        },
        {
          "output_type": "execute_result",
          "data": {
            "text/plain": [
              "[3, 4, 5, 6, 7, 8]"
            ]
          },
          "metadata": {},
          "execution_count": 6
        }
      ]
    },
    {
      "cell_type": "code",
      "source": [
        "# NEW START\n",
        "\n",
        "board = ['-']*9\n",
        "print(board)\n",
        "board1 = ['X','X','X',  '-','-','-',  '-','-','-']\n",
        "\n",
        "def get_empty_cell_list(bo):\n",
        "  \"\"\" This function will return a list of cells with an 'X' \"\"\"\n",
        "  result = []\n",
        "  for pos in range(9):\n",
        "    if bo[pos] == 'X':\n",
        "      result.append(pos)\n",
        "      #result += [pos]\n",
        "  return result\n",
        "\n",
        "get_empty_cell_list(board1)"
      ],
      "metadata": {
        "id": "RDw69-_IqlyM",
        "outputId": "d397ba19-31f7-4bea-d9fd-5cd8813d99c7",
        "colab": {
          "base_uri": "https://localhost:8080/"
        }
      },
      "execution_count": 7,
      "outputs": [
        {
          "output_type": "stream",
          "name": "stdout",
          "text": [
            "['-', '-', '-', '-', '-', '-', '-', '-', '-']\n"
          ]
        },
        {
          "output_type": "execute_result",
          "data": {
            "text/plain": [
              "[0, 1, 2]"
            ]
          },
          "metadata": {},
          "execution_count": 7
        }
      ]
    },
    {
      "cell_type": "code",
      "source": [
        "WINS = set(list(((0,1,2)), ((3,4,5), (6,7,8), (0,3,6), (1,4,7), (2,5,8), (2,4,6), (0,4,8))\n",
        "def did_x_win(bo):\n",
        "  \"\"\" Return true if x has three in a row \"\"\"\n",
        "\n",
        "  \n",
        "  return True\n",
        "\n",
        "  x = get_x"
      ],
      "metadata": {
        "id": "d-mrTQnYrGYc"
      },
      "execution_count": null,
      "outputs": []
    },
    {
      "cell_type": "code",
      "source": [
        "a = set((1,2,3,4))\n",
        "b = set((4,8))\n",
        "print(a&b)\n",
        "print(a|b)"
      ],
      "metadata": {
        "id": "HvPgy5oQrRK6",
        "outputId": "65fcb434-99f3-4ee9-ee78-b5c292d69eef",
        "colab": {
          "base_uri": "https://localhost:8080/"
        }
      },
      "execution_count": 8,
      "outputs": [
        {
          "output_type": "stream",
          "name": "stdout",
          "text": [
            "{4}\n",
            "{1, 2, 3, 4, 8}\n"
          ]
        }
      ]
    }
  ]
}