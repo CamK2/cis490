{
  "nbformat": 4,
  "nbformat_minor": 0,
  "metadata": {
    "colab": {
      "name": "HelloWorld.ipynb",
      "provenance": [],
      "collapsed_sections": [],
      "authorship_tag": "ABX9TyMZ1JEOuAIAuvQ4E89aLYtw",
      "include_colab_link": true
    },
    "kernelspec": {
      "name": "python3",
      "display_name": "Python 3"
    },
    "language_info": {
      "name": "python"
    }
  },
  "cells": [
    {
      "cell_type": "markdown",
      "metadata": {
        "id": "view-in-github",
        "colab_type": "text"
      },
      "source": [
        "<a href=\"https://colab.research.google.com/github/CamK2/cis490/blob/main/HelloWorld.ipynb\" target=\"_parent\"><img src=\"https://colab.research.google.com/assets/colab-badge.svg\" alt=\"Open In Colab\"/></a>"
      ]
    },
    {
      "cell_type": "markdown",
      "source": [
        "# Common program elements #\n",
        "\n",
        "* **IO**\n",
        "  * Console\n",
        "  *File\n",
        "\n",
        "*Data Structures\n",
        "  *Variables"
      ],
      "metadata": {
        "id": "a2A2HJ6sE_eW"
      }
    },
    {
      "cell_type": "markdown",
      "source": [
        "#Welcome to my Hello World page!"
      ],
      "metadata": {
        "id": "Omc5hlab7cj9"
      }
    },
    {
      "cell_type": "markdown",
      "source": [
        ""
      ],
      "metadata": {
        "id": "5z46CHpj83yl"
      }
    },
    {
      "cell_type": "code",
      "source": [
        "print('Hello World')"
      ],
      "metadata": {
        "colab": {
          "base_uri": "https://localhost:8080/"
        },
        "id": "dDrrE6ju7jw9",
        "outputId": "5510d0b3-5d0b-4a32-9c4b-dc2b2f165498"
      },
      "execution_count": null,
      "outputs": [
        {
          "output_type": "stream",
          "name": "stdout",
          "text": [
            "Hello World\n"
          ]
        }
      ]
    },
    {
      "cell_type": "code",
      "source": [
        "# x = input(\"Who is NU's mascot\")\n",
        "x = input(\"Who is NU's mascot\")\n",
        "print(x)"
      ],
      "metadata": {
        "colab": {
          "base_uri": "https://localhost:8080/"
        },
        "id": "GnAZ8bsl8omd",
        "outputId": "4b56972a-c35c-44fa-b7b8-faea16f27e39"
      },
      "execution_count": null,
      "outputs": [
        {
          "output_type": "stream",
          "name": "stdout",
          "text": [
            "Who is NU's mascotmonte the eagle\n",
            "monte the eagle\n"
          ]
        }
      ]
    },
    {
      "cell_type": "code",
      "source": [
        "# Variables\n",
        "a = 5\n",
        "b = a\n",
        "a = 3\n",
        "print('a:', a)\n",
        "print('b:', b)"
      ],
      "metadata": {
        "colab": {
          "base_uri": "https://localhost:8080/"
        },
        "id": "45ckubgq9TqC",
        "outputId": "ae32ccb7-6c92-48b9-b089-45897bb82edb"
      },
      "execution_count": null,
      "outputs": [
        {
          "output_type": "stream",
          "name": "stdout",
          "text": [
            "a: 3\n",
            "b: 5\n"
          ]
        }
      ]
    },
    {
      "cell_type": "code",
      "source": [
        "# LIST\n",
        "a = [1,2,3,4]\n",
        "print('a:', a)\n",
        "print('a[0]:', a[0])\n",
        "print('a[-1]:', a[-1])"
      ],
      "metadata": {
        "colab": {
          "base_uri": "https://localhost:8080/"
        },
        "id": "robV02yh9wYu",
        "outputId": "4b3c6e27-3602-455f-82fe-b1a5a854f2c8"
      },
      "execution_count": null,
      "outputs": [
        {
          "output_type": "stream",
          "name": "stdout",
          "text": [
            "a: [1, 2, 3, 4]\n",
            "a[0]: 1\n",
            "a[-1]: 4\n"
          ]
        }
      ]
    },
    {
      "cell_type": "code",
      "source": [
        "x = ['a','b','c',4]\n",
        "y = x\n",
        "x[0] = ['MONTE WAS HERE!']\n",
        "print('x:', x)\n",
        "print('y:', y)"
      ],
      "metadata": {
        "colab": {
          "base_uri": "https://localhost:8080/"
        },
        "id": "UINPTwD9-av2",
        "outputId": "a97d3414-5027-4364-c9cc-a9d41569aedb"
      },
      "execution_count": null,
      "outputs": [
        {
          "output_type": "stream",
          "name": "stdout",
          "text": [
            "x: [['MONTE WAS HERE!'], 'b', 'c', 4]\n",
            "y: [['MONTE WAS HERE!'], 'b', 'c', 4]\n"
          ]
        }
      ]
    },
    {
      "cell_type": "code",
      "source": [
        "x.append('e')\n",
        "print(x)\n",
        "print(y)"
      ],
      "metadata": {
        "colab": {
          "base_uri": "https://localhost:8080/"
        },
        "id": "5l3LFpFq_VdI",
        "outputId": "92441a5e-abd8-4050-cc84-949da928dbb9"
      },
      "execution_count": null,
      "outputs": [
        {
          "output_type": "stream",
          "name": "stdout",
          "text": [
            "[['MONTE WAS HERE!'], 'b', 'c', 4, 'e']\n",
            "[['MONTE WAS HERE!'], 'b', 'c', 4, 'e']\n"
          ]
        }
      ]
    },
    {
      "cell_type": "code",
      "source": [
        "# BASIC MATH\n",
        "x = 5\n",
        "y = 6\n",
        "z = 5/6\n",
        "a = 3+4\n",
        "b = 3+4*2\n",
        "c = (3+4)*2\n",
        "d = 2**3\n",
        "print('x:', x)\n",
        "print('z:', z)\n",
        "print('a:', a)\n",
        "print('b:', b)\n",
        "print('c:', c)\n",
        "print('d:', d)"
      ],
      "metadata": {
        "colab": {
          "base_uri": "https://localhost:8080/"
        },
        "id": "TIxDCjp7_fen",
        "outputId": "b46ba8ed-c79d-4f72-b9ed-6d04c3959b29"
      },
      "execution_count": null,
      "outputs": [
        {
          "output_type": "stream",
          "name": "stdout",
          "text": [
            "x: 5\n",
            "z: 0.8333333333333334\n",
            "a: 7\n",
            "b: 11\n",
            "c: 14\n",
            "d: 8\n"
          ]
        }
      ]
    },
    {
      "cell_type": "code",
      "source": [
        "#DICT\n",
        "names = ['Christain', 'Raquan', 'Michael']\n",
        "fav_num = [3,16,4]\n",
        "n = 'raquan'\n"
      ],
      "metadata": {
        "id": "DF5HXDdwBYKD"
      },
      "execution_count": null,
      "outputs": []
    },
    {
      "cell_type": "code",
      "source": [
        "65 % 2"
      ],
      "metadata": {
        "colab": {
          "base_uri": "https://localhost:8080/"
        },
        "id": "kFSaywYuEHJJ",
        "outputId": "ff724d0c-6753-4ed7-e147-7d3a5e8871b8"
      },
      "execution_count": null,
      "outputs": [
        {
          "output_type": "execute_result",
          "data": {
            "text/plain": [
              "1"
            ]
          },
          "metadata": {},
          "execution_count": 13
        }
      ]
    }
  ]
}