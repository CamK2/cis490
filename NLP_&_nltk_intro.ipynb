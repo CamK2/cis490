{
  "nbformat": 4,
  "nbformat_minor": 0,
  "metadata": {
    "colab": {
      "name": "NLP & nltk intro.ipynb",
      "provenance": [],
      "authorship_tag": "ABX9TyPzFhLQCD7Fgxxprs8G205N",
      "include_colab_link": true
    },
    "kernelspec": {
      "name": "python3",
      "display_name": "Python 3"
    },
    "language_info": {
      "name": "python"
    }
  },
  "cells": [
    {
      "cell_type": "markdown",
      "metadata": {
        "id": "view-in-github",
        "colab_type": "text"
      },
      "source": [
        "<a href=\"https://colab.research.google.com/github/CamK2/cis490/blob/main/NLP_%26_nltk_intro.ipynb\" target=\"_parent\"><img src=\"https://colab.research.google.com/assets/colab-badge.svg\" alt=\"Open In Colab\"/></a>"
      ]
    },
    {
      "cell_type": "markdown",
      "source": [
        "NLP & nltk Intro\n",
        "================\n",
        "\n",
        "**Natural Language Processing (NLP)**\n",
        "- not to be confused with neuro-linguistic programming, applying AI techniques to natural language (as opposed to artificial language such as python or protocol). Usually involves text, but speech, facial expression, and gestures are active areas of research.\n",
        "\n",
        "[**nltk**](http://nltk.org) - natural language tool kit\n",
        "- free, open source, python module for performing basic NLP tasks.\n",
        "Benefit- provides easy access to corpora (large bodies of text) and WordNET.\n",
        "\n",
        "**WordNET** - 150k words organized into a network of semantic (relating to the meaning of words) relationships and categories (*synsets*); effectively a combined dictionary and thesaurus."
      ],
      "metadata": {
        "id": "5sS05Fy34rse"
      }
    },
    {
      "cell_type": "code",
      "execution_count": null,
      "metadata": {
        "id": "2bxQb8h43i8a"
      },
      "outputs": [],
      "source": [
        "# if you need to install it use:\n",
        "# $ pip install nltk\n",
        "import nltk\n",
        "\n",
        "nltk.download('book')\n",
        "from nltk.book import *  #(loads text1, text2, into variables)"
      ]
    },
    {
      "cell_type": "code",
      "source": [
        "# type is a python function which tells the user what type of variable a specified variable is.\n",
        "a = type(text1)\n",
        "print(a)\n",
        "print(text1)\n",
        "texts = [text1, text2, text3, text4, text5, text6]\n",
        "\n",
        "for text in texts:\n",
        "  print(text)"
      ],
      "metadata": {
        "colab": {
          "base_uri": "https://localhost:8080/"
        },
        "id": "bRaszq668TMn",
        "outputId": "8d3406f3-9ae2-416f-a95d-4f418224ca34"
      },
      "execution_count": 19,
      "outputs": [
        {
          "output_type": "stream",
          "name": "stdout",
          "text": [
            "<class 'nltk.text.Text'>\n",
            "<Text: Moby Dick by Herman Melville 1851>\n",
            "<Text: Moby Dick by Herman Melville 1851>\n",
            "<Text: Sense and Sensibility by Jane Austen 1811>\n",
            "<Text: The Book of Genesis>\n",
            "<Text: Inaugural Address Corpus>\n",
            "<Text: Chat Corpus>\n",
            "<Text: Monty Python and the Holy Grail>\n"
          ]
        }
      ]
    },
    {
      "cell_type": "code",
      "source": [
        "print(sorted(set(text6)))"
      ],
      "metadata": {
        "colab": {
          "base_uri": "https://localhost:8080/"
        },
        "id": "bVJ4jLbZ9A3F",
        "outputId": "2d69d8a1-f132-4f6b-cd36-f4a009d3a084"
      },
      "execution_count": 14,
      "outputs": [
        {
          "output_type": "stream",
          "name": "stdout",
          "text": [
            "['!', '!)', '!,', '!]', '#', \"'\", \"'!\", \"',\", \"'.\", \"'...\", \"'?\", '(', ',', \",'\", ',--', '-', '--', '--...', '.', \".'\", '.)', '..', '...', '...?', '...]', '1', '10', '11', '12', '13', '14', '15', '16', '17', '18', '19', '2', '20', '21', '22', '23', '24', '3', '4', '5', '6', '7', '8', '9', ':', ';', '?', '?!', 'A', 'ALL', 'AMAZING', 'ANIMATOR', 'ARMY', 'ARTHUR', 'Aaaaaaaaah', 'Aaaaaaaah', 'Aaaaaah', 'Aaaah', 'Aaaaugh', 'Aaagh', 'Aaah', 'Aaauggh', 'Aaaugh', 'Aaauugh', 'Aagh', 'Aah', 'Aauuggghhh', 'Aauuugh', 'Aauuuuugh', 'Aauuuves', 'Action', 'Actually', 'African', 'Ages', 'Aggh', 'Agh', 'Ah', 'Ahh', 'Alice', 'All', 'Allo', 'Almighty', 'Alright', 'Am', 'Amen', 'An', 'Anarcho', 'And', 'Angnor', 'Anthrax', 'Antioch', 'Anybody', 'Anyway', 'Apples', 'Aramaic', 'Are', 'Arimathea', 'Armaments', 'Arthur', 'As', 'Ask', 'Assyria', 'At', 'Attila', 'Augh', 'Autumn', 'Auuuuuuuugh', 'Away', 'Ay', 'Ayy', 'B', 'BEDEVERE', 'BLACK', 'BORS', 'BRIDE', 'BRIDGEKEEPER', 'BROTHER', 'Back', 'Bad', 'Badon', 'Battle', 'Be', 'Beast', 'Bedevere', 'Bedwere', 'Behold', 'Between', 'Beyond', 'Black', 'Bloody', 'Blue', 'Bon', 'Bones', 'Book', 'Bors', 'Brave', 'Bravely', 'Bravest', 'Bread', 'Bridge', 'Bring', 'Bristol', 'Britain', 'Britons', 'Brother', 'Build', 'Burn', 'But', 'By', 'C', 'CAMERAMAN', 'CART', 'CARTOON', 'CHARACTER', 'CHARACTERS', 'CONCORDE', 'CRAPPER', 'CRASH', 'CRONE', 'CROWD', 'CUSTOMER', 'Caerbannog', 'Camaaaaaargue', 'Camelot', 'Castle', 'Chapter', 'Charge', 'Chaste', 'Cherries', 'Chicken', 'Chickennn', 'Chop', 'Christ', 'Churches', 'Cider', 'Clark', 'Clear', 'Come', 'Concorde', 'Consult', 'Cornwall', 'Could', 'Course', 'Court', 'Crapper', 'Cut', 'DEAD', 'DENNIS', 'DINGO', 'DIRECTOR', 'Dappy', 'Death', 'Defeat', 'Dennis', 'Did', 'Didn', 'Dingo', 'Dis', 'Divine', 'Do', 'Doctor', 'Does', 'Don', 'Dragon', 'Dramatically', 'ENCHANTER', 'Ecky', 'Ector', 'Eee', 'Eh', 'Enchanter', 'England', 'English', 'Erbert', 'Ere', 'Erm', 'Eternal', 'European', 'Even', 'Every', 'Everything', 'Ewing', 'Exactly', 'Excalibur', 'Excuse', 'Explain', 'FATHER', 'FRENCH', 'Far', 'Farewell', 'Father', 'Fetchez', 'Fiends', 'Fine', 'First', 'Firstly', 'Five', 'Follow', 'For', 'Forgive', 'Forward', 'Found', 'Four', 'France', 'Frank', 'French', 'GALAHAD', 'GIRLS', 'GOD', 'GREEN', 'GUARD', 'GUARDS', 'GUEST', 'GUESTS', 'Gable', 'Galahad', 'Gallahad', 'Gawain', 'Get', 'Go', 'God', 'Good', 'Gorge', 'Grail', 'Great', 'Greetings', 'Grenade', 'Guards', 'Guy', 'HEAD', 'HEADS', 'HERBERT', 'HISTORIAN', 'Ha', 'Hah', 'Hallo', 'Halt', 'Hand', 'Hang', 'Have', 'Haw', 'He', 'Hee', 'Heee', 'Heh', 'Hello', 'Help', 'Herbert', 'Here', 'Hey', 'Hic', 'Hill', 'Himself', 'His', 'Hiyaah', 'Hiyah', 'Hiyya', 'Hm', 'Hmm', 'Ho', 'Hoa', 'Hold', 'Holy', 'Honestly', 'Hoo', 'Hooray', 'How', 'Huh', 'Hurry', 'Huy', 'Huyah', 'Hya', 'Hyy', 'I', 'INSPECTOR', 'Idiom', 'Iesu', 'If', 'Iiiiives', 'Iiiives', 'In', 'Is', 'Isn', 'It', 'Ives', 'Jesus', 'Joseph', 'Just', 'KING', 'KNIGHT', 'KNIGHTS', 'Keep', 'King', 'Knight', 'Knights', 'LAUNCELOT', 'LEFT', 'LOVELY', 'LUCKY', 'Lady', 'Lake', 'Lancelot', 'Launcelot', 'Lead', 'Leaving', 'Let', 'Lie', 'Like', 'Listen', 'Loimbard', 'Look', 'Looks', 'Lord', 'Lucky', 'MAN', 'MASTER', 'MAYNARD', 'MIDDLE', 'MIDGET', 'MINSTREL', 'MONKS', 'Make', 'Man', 'May', 'Maynard', 'Meanwhile', 'Mercea', 'Message', 'Midget', 'Mind', 'Mine', 'Mmm', 'Monsieur', 'More', 'Morning', 'Most', 'Mother', 'Mud', 'Must', 'My', 'N', 'NARRATOR', 'NI', 'Nador', 'Nay', 'Neee', 'Never', 'Ni', 'Nine', 'Ninepence', 'No', 'None', 'Not', 'Nothing', 'Now', 'Nu', 'O', 'OF', 'OFFICER', 'OLD', 'OTHER', 'Of', 'Off', 'Oh', 'Ohh', 'Old', 'Olfin', 'On', 'Once', 'One', 'Ooh', 'Oooh', 'Oooo', 'Oooohoohohooo', 'Oooooooh', 'Open', 'Or', 'Order', 'Other', 'Oui', 'Our', 'Over', 'Ow', 'PARTY', 'PATSY', 'PERSON', 'PIGLET', 'PRINCE', 'PRINCESS', 'PRISONER', 'Packing', 'Patsy', 'Pendragon', 'Peng', 'Perhaps', 'Peril', 'Picture', 'Pie', 'Piglet', 'Pin', 'Please', 'Practice', 'Prepare', 'Prince', 'Princess', 'Providence', 'Psalms', 'Pull', 'Pure', 'Put', 'Quick', 'Quickly', 'Quiet', 'Quite', 'Quoi', 'RANDOM', 'RIGHT', 'ROBIN', 'ROGER', 'Rather', 'Really', 'Recently', 'Remove', 'Rheged', 'Ridden', 'Right', 'Riiight', 'Robin', 'Robinson', 'Roger', 'Round', 'Run', 'Running', 'S', 'SCENE', 'SECOND', 'SENTRY', 'SHRUBBER', 'SIR', 'SOLDIER', 'STUNNER', 'SUN', 'Said', 'Saint', 'Saxons', 'Say', 'Schools', 'See', 'Seek', 'Shall', 'She', 'Shh', 'Shrubber', 'Shrubberies', 'Shut', 'Silence', 'Silly', 'Since', 'Sir', 'Skip', 'So', 'Sorry', 'Speak', 'Splendid', 'Spring', 'Stand', 'Stay', 'Steady', 'Stop', 'Summer', 'Supposing', 'Supreme', 'Surely', 'Swamp', 'THE', 'TIM', 'Table', 'Tale', 'Tall', 'Tell', 'Thank', 'That', 'The', 'Thee', 'Then', 'There', 'Therefore', 'They', 'This', 'Those', 'Thou', 'Thpppppt', 'Thppppt', 'Thpppt', 'Thppt', 'Three', 'Throw', 'Thsss', 'Thursday', 'Thy', 'Til', 'Tim', 'Tis', 'To', 'Today', 'Together', 'Too', 'Torment', 'Tower', 'True', 'Try', 'Twenty', 'Two', 'U', 'Uh', 'Uhh', 'Ulk', 'Um', 'Umhm', 'Umm', 'Un', 'Unfortunately', 'Until', 'Use', 'Uther', 'Uugh', 'Uuh', 'VILLAGER', 'VILLAGERS', 'VOICE', 'Very', 'Victory', 'W', 'WIFE', 'WINSTON', 'WITCH', 'WOMAN', 'Waa', 'Wait', 'Walk', 'Wayy', 'We', 'Welcome', 'Well', 'What', 'When', 'Where', 'Which', 'Who', 'Whoa', 'Why', 'Will', 'Winston', 'Winter', 'With', 'Woa', 'Wood', 'Would', 'Y', 'Yapping', 'Yay', 'Yeaaah', 'Yeaah', 'Yeah', 'Yes', 'You', 'Your', 'Yup', 'ZOOT', 'Zoot', '[', '[...', ']', 'a', 'aaaaaah', 'aaaah', 'aaggggh', 'aaugh', 'able', 'about', 'absolutely', 'accent', 'accompanied', 'accomplished', 'act', 'acting', 'actually', 'advancing', 'adversary', 'affairs', 'afoot', 'afraid', 'after', 'again', 'against', 'agree', 'ain', 'air', 'alarm', 'alight', 'alive', 'all', 'allowed', 'almost', 'aloft', 'along', 'already', 'also', 'although', 'always', 'am', 'amazes', 'an', 'anarcho', 'anchovies', 'and', 'angels', 'anging', 'animal', 'animator', 'another', 'answer', 'answers', 'any', 'anyone', 'anything', 'anyway', 'anywhere', 'apart', 'apologise', 'appearing', 'appease', 'approacheth', 'approaching', 'aptly', 'aquatic', 'are', 'aren', 'argue', 'arm', 'armed', 'armor', 'arms', 'around', 'arrange', 'arrows', 'art', 'as', 'aside', 'ask', 'asking', 'asks', 'assault', 'assist', 'at', 'attack', 'attend', 'auntie', 'aunties', 'autocracy', 'automatically', 'autonomous', 'auuuuuuuugh', 'avenged', 'averting', 'awaaaaay', 'awaaay', 'awaits', 'away', 'awfully', 'awhile', 'b', 'baaaa', 'baby', 'back', 'bad', 'badger', 'banana', 'band', 'bang', 'bangin', 'basic', 'basis', 'bastard', 'bastards', 'bathing', 'bats', 'be', 'beacon', 'beat', 'beautiful', 'became', 'because', 'become', 'bed', 'beds', 'been', 'behaviour', 'behind', 'behold', 'being', 'bells', 'bent', 'beside', 'best', 'bet', 'better', 'between', 'beyond', 'bi', 'bicker', 'bid', 'big', 'biggest', 'binding', 'bint', 'bird', 'birds', 'biscuits', 'bit', 'bitching', 'bite', 'biters', 'bits', 'bladders', 'blanket', 'bleed', 'bleeder', 'bless', 'blessing', 'blondes', 'blood', 'bloody', 'blow', 'body', 'boil', 'boing', 'bois', 'bold', 'bond', 'bones', 'bonk', 'boom', 'bosom', 'bother', 'bottom', 'bottoms', 'bowels', 'bows', 'boys', 'brain', 'brained', 'brave', 'bravely', 'bravest', 'breadth', 'breakfast', 'breath', 'bride', 'bridge', 'bridgekeeper', 'bridges', 'bring', 'bringing', 'broken', 'brought', 'brunettes', 'brush', 'bugger', 'buggered', 'buggering', 'build', 'built', 'bum', 'bunny', 'burn', 'burned', 'burst', 'business', 'busy', 'but', 'buy', 'by', 'c', 'cadeau', 'call', 'called', 'can', 'cannot', 'capital', 'carp', 'carried', 'carries', 'carry', 'carrying', 'cart', 'cartoon', 'carve', 'carved', 'carving', 'case', 'cast', 'castanets', 'castle', 'cause', 'cave', 'centuries', 'cereals', 'ceremony', 'certain', 'certainly', 'chance', 'change', 'changed', 'chanting', 'charged', 'chastity', 'cheesy', 'chest', 'chickened', 'chickening', 'chops', 'chord', 'chorus', 'chosen', 'chu', 'clack', 'clad', 'clang', 'clank', 'clap', 'class', 'classes', 'clear', 'clever', 'climes', 'clllank', 'clop', 'closest', 'clue', 'clunk', 'coconut', 'coconuts', 'collective', 'color', 'come', 'comin', 'coming', 'command', 'commands', 'committed', 'commune', 'compared', 'completely', 'conclusion', 'conclusions', 'confuse', 'considerable', 'consulted', 'continue', 'convinced', 'cop', 'cope', 'cost', 'cough', 'could', 'couldn', 'count', 'counting', 'country', 'couple', 'courage', 'course', 'court', 'cover', 'covered', 'crash', 'creak', 'creature', 'creep', 'creeper', 'crone', 'cross', 'crossed', 'cruel', 'cry', 'crying', 'curtains', 'cut', 'd', 'dad', 'daft', 'dance', 'dancing', 'danger', 'dangerous', 'dappy', 'dare', 'daring', 'dark', 'daughter', 'day', 'de', 'dead', 'deal', 'dear', 'death', 'decided', 'decision', 'deeds', 'defeat', 'defeator', 'delirious', 'demand', 'depart', 'depressing', 'derives', 'design', 'diaphragm', 'dictating', 'dictatorship', 'did', 'didn', 'die', 'died', 'differences', 'dine', 'direction', 'dirty', 'discovered', 'discovers', 'disheartened', 'distress', 'distributing', 'do', 'doctors', 'does', 'doesn', 'dogma', 'dogs', 'doing', 'domine', 'don', 'dona', 'donaeis', 'done', 'donkey', 'door', 'doors', 'dorsal', 'doubt', 'down', 'dragging', 'dramatic', 'draw', 'dress', 'dressed', 'dresser', 'dressing', 'drilllll', 'drink', 'dub', 'duck', 'dull', 'dungeon', 'dunno', 'duty', 'dying', 'dynamite', 'e', 'each', 'earth', 'earthquakes', 'easily', 'east', 'easy', 'eat', 'eats', 'eccentric', 'ecky', 'economic', 'eet', 'effect', 'eh', 'ehh', 'eight', 'eis', 'eisrequiem', 'either', 'elbows', 'elderberries', 'electric', 'else', 'em', 'emperor', 'employed', 'empty', 'enchanter', 'end', 'enemies', 'enjoying', 'enough', 'enter', 'entered', 'entering', 'entrance', 'er', 'ere', 'escape', 'est', 'etc', 'ethereal', 'even', 'ever', 'every', 'everyone', 'everything', 'evil', 'examine', 'example', 'excepting', 'exciting', 'excuse', 'executive', 'expect', 'expensive', 'explain', 'exploiting', 'eyes', 'face', 'faced', 'fair', 'fallen', 'false', 'far', 'farcical', 'fart', 'fatal', 'father', 'favor', 'favorite', 'feast', 'feathers', 'feel', 'feet', 'feint', 'fell', 'fellows', 'felt', 'ferocity', 'fifty', 'fight', 'film', 'filth', 'find', 'finds', 'fine', 'finest', 'fire', 'first', 'five', 'fled', 'flesh', 'flight', 'flights', 'flint', 'floats', 'fly', 'foe', 'fold', 'folk', 'follow', 'food', 'fooling', 'foot', 'footwork', 'for', 'force', 'forced', 'forest', 'forget', 'forgive', 'formed', 'formidable', 'forth', 'fortune', 'forty', 'forward', 'fought', 'foul', 'found', 'four', 'fourth', 'freedom', 'friend', 'frighten', 'from', 'frontal', 'frozen', 'fruit', 'full', 'further', 'fwump', 'g', 'gained', 'gallantly', 'gave', 'gay', 'general', 'gentle', 'get', 'getting', 'giggle', 'girl', 'git', 'give', 'given', 'glad', 'glass', 'glory', 'go', 'goes', 'going', 'gone', 'gonna', 'good', 'goodem', 'got', 'gouged', 'government', 'gra', 'grail', 'gravy', 'great', 'grenade', 'grin', 'grip', 'grips', 'grovel', 'groveling', 'guard', 'guarded', 'guards', 'guest', 'guests', 'guided', 'guiding', 'gurgle', 'ha', 'haaa', 'hacked', 'had', 'hadn', 'half', 'hall', 'halves', 'ham', 'hamster', 'hand', 'handed', 'handle', 'handsome', 'hang', 'happens', 'happy', 'harmless', 'has', 'hasn', 'hast', 'haste', 'hat', 'have', 'haven', 'havin', 'having', 'haw', 'he', 'head', 'headed', 'headoff', 'heads', 'hear', 'heard', 'heart', 'hee', 'heeh', 'heh', 'held', 'hell', 'hello', 'help', 'helpful', 'her', 'here', 'heroic', 'herring', 'hidden', 'high', 'higher', 'hills', 'him', 'himself', 'his', 'history', 'hiyaah', 'hmm', 'ho', 'holy', 'home', 'honored', 'hoo', 'hopeless', 'horn', 'horrendous', 'horse', 'hospital', 'hospitality', 'house', 'how', 'howl', 'huge', 'humble', 'hundred', 'husk', 'i', 'icy', 'idea', 'identical', 'idiom', 'if', 'ignore', 'ill', 'illegitimate', 'illustrious', 'immediately', 'impeccable', 'imperialist', 'impersonate', 'imprisoned', 'in', 'indeed', 'indefatigable', 'individually', 'inferior', 'influential', 'inherent', 'inside', 'interested', 'intermission', 'internal', 'into', 'invincible', 'is', 'islands', 'isn', 'it', 'its', 'j', 'jam', 'join', 'jokes', 'joyful', 'ju', 'jump', 'just', 'k', 'keen', 'keep', 'keeper', 'keepers', 'kick', 'kicked', 'kill', 'killed', 'killer', 'kills', 'kind', 'king', 'kingdom', 'kings', 'kneecaps', 'kneeling', 'knees', 'knew', 'knight', 'knights', 'knock', 'knocked', 'know', 'known', 'knows', 'l', 'la', 'lad', 'laden', 'ladies', 'lads', 'lady', 'lair', 'lambs', 'land', 'language', 'lapin', 'large', 'largest', 'last', 'late', 'later', 'laughing', 'laurels', 'leads', 'leap', 'leaps', 'learning', 'least', 'leave', 'left', 'leg', 'legally', 'legendary', 'legs', 'length', 'less', 'let', 'level', 'liar', 'lie', 'liege', 'lies', 'life', 'like', 'limbs', 'line', 'listen', 'little', 'live', 'lived', 'liver', 'lives', 'living', 'll', 'lobbed', 'lobbest', 'logically', 'lonely', 'long', 'longer', 'look', 'looked', 'looking', 'looks', 'looney', 'lord', 'lose', 'lost', 'lot', 'lovely', 'luck', 'lucky', 'lunged', 'lying', 'm', 'mac', 'mad', 'made', 'magne', 'main', 'maintain', 'major', 'majority', 'make', 'makes', 'making', 'man', 'mandate', 'mangled', 'mangy', 'manner', 'many', 'married', 'marry', 'marrying', 'martin', 'mashed', 'masses', 'master', 'mate', 'matter', 'may', 'maybe', 'mayest', 'mayhem', 'me', 'mean', 'meant', 'medical', 'medieval', 'meeting', 'men', 'mer', 'mercy', 'merger', 'met', 'middle', 'might', 'mightiest', 'migrate', 'migratory', 'mile', 'mine', 'minstrels', 'minute', 'minutes', 'miserable', 'miss', 'mistake', 'model', 'moistened', 'moment', 'mooo', 'mooooooo', 'more', 'mortally', 'most', 'mother', 'mount', 'move', 'much', 'mud', 'mumble', 'music', 'must', 'my', 'mystic', 'n', 'name', 'named', 'names', 'nasty', 'naughty', 'near', 'nearer', 'nearly', 'necessary', 'need', 'needs', 'nervous', 'never', 'new', 'newt', 'next', 'ni', 'nibble', 'nice', 'nick', 'niggets', 'night', 'nightfall', 'nine', 'ninepence', 'nineteen', 'nnniggets', 'nnnnniggets', 'no', 'nobody', 'noise', 'non', 'nor', 'north', 'nose', 'nostrils', 'not', 'note', 'nothing', 'now', 'number', 'o', 'object', 'obviously', 'occasion', 'of', 'off', 'offensive', 'officer', 'oh', 'old', 'on', 'once', 'one', 'ones', 'only', 'oo', 'ooh', 'oooh', 'open', 'opening', 'opera', 'or', 'oral', 'orangutans', 'order', 'ordinary', 'other', 'oui', 'ounce', 'our', 'ours', 'out', 'outdated', 'outdoors', 'outrageous', 'outside', 'outwit', 'over', 'owli', 'own', 'owns', 'p', 'pack', 'packing', 'pansy', 'particular', 'particularly', 'parts', 'pass', 'passed', 'passing', 'path', 'pause', 'pay', 'peasant', 'pen', 'penalty', 'people', 'performance', 'peril', 'perilous', 'period', 'perpetuates', 'perpetuating', 'person', 'personally', 'persons', 'pestilence', 'pig', 'pikang', 'pimples', 'pissing', 'pitched', 'place', 'plain', 'plan', 'please', 'plover', 'point', 'pointy', 'police', 'pond', 'ponds', 'pound', 'pounds', 'power', 'praised', 'pram', 'pray', 'presence', 'present', 'preserving', 'prevent', 'previous', 'private', 'problem', 'problems', 'proceed', 'profane', 'progress', 'properly', 'protect', 'proved', 'ptoo', 'pull', 'pulp', 'punishment', 'pure', 'purely', 'purest', 'purpose', 'push', 'pussy', 'put', 'pweeng', 'quack', 'quarrel', 'quest', 'question', 'questions', 'quests', 'quick', 'quiet', 'quite', 'rabbit', 'radio', 'raised', 'ran', 'raped', 'rather', 'ratified', 'ratios', 're', 'reached', 'reads', 'ready', 'real', 'really', 'reared', 'reasonable', 'recover', 'refuse', 'regulations', 'rejoicing', 'relax', 'relics', 'remain', 'remember', 'remembered', 'removed', 'repressed', 'repressing', 'request', 'requiem', 'required', 'rescue', 'rest', 'resting', 'resumes', 'retold', 'retreat', 'return', 'returns', 'rewr', 'rhymes', 'rich', 'ridden', 'ride', 'riding', 'right', 'risk', 'roar', 'rock', 'rocks', 'rode', 'rodent', 'room', 'rope', 'round', 'routines', 'rrrr', 'ruffians', 'run', 'runes', 'running', 's', 'sacred', 'sacrifice', 'sad', 'safety', 'said', 'same', 'samite', 'sample', 'sank', 'saved', 'saw', 'sawwwww', 'say', 'saying', 'says', 'scales', 'scared', 'scarper', 'scene', 'scenes', 'scholar', 'science', 'scimitar', 'score', 'scots', 'scott', 'scrape', 'scratch', 'scribble', 'search', 'second', 'see', 'seek', 'seem', 'seemed', 'seems', 'seen', 'seldom', 'self', 'sell', 'send', 'sense', 'sent', 'separate', 'sequin', 'servant', 'set', 'setting', 'settles', 'seven', 'sex', 'shall', 'shalt', 'shaped', 'sharp', 'she', 'sheep', 'shelter', 'shimmering', 'shit', 'shivering', 'should', 'show', 'shows', 'shrubber', 'shrubberies', 'shrubbery', 'shut', 'side', 'sigh', 'sight', 'sign', 'signifying', 'silence', 'silly', 'simple', 'since', 'sing', 'singing', 'single', 'sink', 'sir', 'sire', 'siren', 'sister', 'sixteen', 'slash', 'slightly', 'sloths', 'smack', 'small', 'smashed', 'smashing', 'smelt', 'snap', 'sneaking', 'sniff', 'snore', 'snows', 'snuff', 'so', 'social', 'society', 'sod', 'soft', 'soiled', 'some', 'somebody', 'someone', 'something', 'sometimes', 'somewhere', 'son', 'song', 'sonny', 'sons', 'soon', 'sorry', 'sort', 'south', 'sovereign', 'spake', 'spam', 'spank', 'spanked', 'spanking', 'speak', 'special', 'speed', 'spirit', 'splash', 'splat', 'split', 'spoken', 'sponge', 'spooky', 'squeak', 'stab', 'stand', 'starling', 'started', 'stay', 'stayed', 'stew', 'still', 'stone', 'stood', 'stop', 'stops', 'straight', 'strand', 'strange', 'strangers', 'strategy', 'streak', 'strength', 'stress', 'stretched', 'strewn', 'string', 'strongest', 'stuffed', 'stupid', 'successful', 'such', 'suddenly', 'suffered', 'suffice', 'suggesting', 'suit', 'summon', 'sun', 'supports', 'suppose', 'supposed', 'supreme', 'sure', 'surprise', 'suspenseful', 'swallow', 'swallows', 'swamp', 'sweet', 'sword', 'swords', 'sworn', 'syndicalism', 'syndicalist', 'system', 't', 'table', 'tackle', 'tail', 'take', 'taken', 'taking', 'tale', 'talk', 'tap', 'tart', 'task', 'taunt', 'taunting', 'tea', 'tear', 'teeth', 'tell', 'telling', 'temperate', 'tempered', 'temptation', 'temptress', 'terrible', 'terribly', 'test', 'testicles', 'than', 'thank', 'thanks', 'that', 'the', 'their', 'them', 'then', 'there', 'therefore', 'these', 'they', 'thine', 'thing', 'things', 'think', 'third', 'thirds', 'thirty', 'this', 'thonk', 'those', 'thou', 'thought', 'three', 'threw', 'throat', 'through', 'throughout', 'throwing', 'thud', 'thump', 'thwonk', 'thy', 'tie', 'til', 'time', 'times', 'tinder', 'tiny', 'tired', 'tit', 'to', 'today', 'together', 'told', 'tonight', 'too', 'took', 'tops', 'totally', 'tough', 'towards', 'town', 'tracts', 'trade', 'tragic', 'training', 'traveller', 'travellers', 'treat', 'tree', 'triumphs', 'tropical', 'trouble', 'trough', 'trumpets', 'trusty', 'try', 'turned', 'turns', 'twang', 'twenty', 'twin', 'two', 'twong', 'types', 'u', 'ugly', 'uh', 'uhh', 'um', 'un', 'unarmed', 'unclog', 'under', 'understand', 'understanding', 'underwear', 'undressing', 'ungallant', 'unhealthy', 'union', 'unladen', 'unplugged', 'unsingable', 'until', 'up', 'upon', 'us', 'use', 'used', 'using', 'utterly', 'uuggggggh', 'uuup', 'va', 'vache', 'vain', 'valiant', 'valleys', 'valor', 'van', 'varletesses', 'vary', 've', 'velocity', 'verses', 'very', 'vests', 'vicious', 'violence', 'visually', 'vital', 'voluntarily', 'vote', 'vouchsafed', 'w', 'wait', 'walk', 'walking', 'wanna', 'want', 'wants', 'war', 'warm', 'warmer', 'warned', 'warning', 'wart', 'was', 'wasn', 'waste', 'watch', 'water', 'watery', 'wave', 'way', 'ways', 'wayy', 'we', 'weapon', 'weather', 'wedding', 'wedlock', 'week', 'weekly', 'weighs', 'weight', 'welcome', 'well', 'went', 'were', 'wet', 'wetting', 'what', 'when', 'where', 'wherein', 'whether', 'which', 'while', 'whinny', 'whispering', 'who', 'whoever', 'whom', 'whop', 'whose', 'why', 'wicked', 'wide', 'wield', 'will', 'wind', 'window', 'wings', 'winter', 'wiper', 'wipers', 'wise', 'wishes', 'witch', 'witches', 'with', 'without', 'witness', 'wom', 'woman', 'women', 'won', 'wonderful', 'wood', 'wooden', 'woods', 'woosh', 'word', 'words', 'work', 'worked', 'workers', 'working', 'worried', 'worry', 'worse', 'worst', 'worthy', 'would', 'wouldn', 'wound', 'wounded', 'wounding', 'writing', 'wrong', 'y', 'ye', 'yeah', 'year', 'yel', 'yelling', 'yellow', 'yes', 'yet', 'you', 'young', 'your', 'yours', 'yourself', 'zhiv', 'zone', 'zoo', 'zoop', 'zoosh']\n"
          ]
        }
      ]
    },
    {
      "cell_type": "code",
      "source": [
        "mytext = \"At two o'clock today, I didn't want to stay longer.\"\n",
        "\n",
        "print(mytext.split())\n",
        "words = nltk.word_tokenize(mytext)\n",
        "print(words)"
      ],
      "metadata": {
        "colab": {
          "base_uri": "https://localhost:8080/"
        },
        "id": "WfzWSoDa9ueb",
        "outputId": "c65034e5-603c-4aae-91f6-d9552f240dd3"
      },
      "execution_count": 16,
      "outputs": [
        {
          "output_type": "stream",
          "name": "stdout",
          "text": [
            "['At', 'two', \"o'clock\", 'today,', 'I', \"didn't\", 'want', 'to', 'stay', 'longer.']\n",
            "['At', 'two', \"o'clock\", 'today', ',', 'I', 'did', \"n't\", 'want', 'to', 'stay', 'longer', '.']\n"
          ]
        }
      ]
    },
    {
      "cell_type": "code",
      "source": [
        "mytext2 = \"At two o'clock today, I didn't want to stay longer. I did.\"\n",
        "sents = nltk.sent_tokenize(mytext2)\n",
        "print(sents)"
      ],
      "metadata": {
        "colab": {
          "base_uri": "https://localhost:8080/"
        },
        "id": "nKUAQlGk-z5C",
        "outputId": "ade54f5e-21a9-494d-8882-07f67ca69b92"
      },
      "execution_count": 21,
      "outputs": [
        {
          "output_type": "stream",
          "name": "stdout",
          "text": [
            "[\"At two o'clock today, I didn't want to stay longer.\", 'I did.']\n"
          ]
        }
      ]
    },
    {
      "cell_type": "code",
      "source": [
        "tagged = nltk.pos_tag(words)\n",
        "print(tagged)"
      ],
      "metadata": {
        "colab": {
          "base_uri": "https://localhost:8080/"
        },
        "id": "DFEm4V-h_Q_a",
        "outputId": "b3864e30-1d34-4328-a782-7d359b12cd14"
      },
      "execution_count": 27,
      "outputs": [
        {
          "output_type": "stream",
          "name": "stdout",
          "text": [
            "[('At', 'IN'), ('two', 'CD'), (\"o'clock\", 'NN'), ('today', 'NN'), (',', ','), ('I', 'PRP'), ('did', 'VBD'), (\"n't\", 'RB'), ('want', 'VB'), ('to', 'TO'), ('stay', 'VB'), ('longer', 'RB'), ('.', '.')]\n"
          ]
        }
      ]
    },
    {
      "cell_type": "code",
      "source": [
        "entities = nltk.chunk.ne_chunk(tagged)\n",
        "print(entities)"
      ],
      "metadata": {
        "colab": {
          "base_uri": "https://localhost:8080/"
        },
        "id": "59v2kq9TAbSp",
        "outputId": "3fb19429-c818-443b-981e-131ba6e8a674"
      },
      "execution_count": 29,
      "outputs": [
        {
          "output_type": "stream",
          "name": "stdout",
          "text": [
            "(S\n",
            "  At/IN\n",
            "  two/CD\n",
            "  o'clock/NN\n",
            "  today/NN\n",
            "  ,/,\n",
            "  I/PRP\n",
            "  did/VBD\n",
            "  n't/RB\n",
            "  want/VB\n",
            "  to/TO\n",
            "  stay/VB\n",
            "  longer/RB\n",
            "  ./.)\n"
          ]
        }
      ]
    },
    {
      "cell_type": "code",
      "source": [
        "text1.concordance('monstrous')"
      ],
      "metadata": {
        "colab": {
          "base_uri": "https://localhost:8080/"
        },
        "id": "kovIKuCFAyBV",
        "outputId": "2ad5c8ce-96e0-4a6d-f871-67491803135a"
      },
      "execution_count": 37,
      "outputs": [
        {
          "output_type": "stream",
          "name": "stdout",
          "text": [
            "Displaying 11 of 11 matches:\n",
            "ong the former , one was of a most monstrous size . ... This came towards us , \n",
            "ON OF THE PSALMS . \" Touching that monstrous bulk of the whale or ork we have r\n",
            "ll over with a heathenish array of monstrous clubs and spears . Some were thick\n",
            "d as you gazed , and wondered what monstrous cannibal and savage could ever hav\n",
            "that has survived the flood ; most monstrous and most mountainous ! That Himmal\n",
            "they might scout at Moby Dick as a monstrous fable , or still worse and more de\n",
            "th of Radney .'\" CHAPTER 55 Of the Monstrous Pictures of Whales . I shall ere l\n",
            "ing Scenes . In connexion with the monstrous pictures of whales , I am strongly\n",
            "ere to enter upon those still more monstrous stories of them which are to be fo\n",
            "ght have been rummaged out of this monstrous cabinet there is no telling . But \n",
            "of Whale - Bones ; for Whales of a monstrous size are oftentimes cast up dead u\n"
          ]
        }
      ]
    },
    {
      "cell_type": "code",
      "source": [
        "text1.similar('fish')"
      ],
      "metadata": {
        "colab": {
          "base_uri": "https://localhost:8080/"
        },
        "id": "-WWNaDlDBU-O",
        "outputId": "4dcdc03b-4786-4749-a0b4-c1a681b616f4"
      },
      "execution_count": 41,
      "outputs": [
        {
          "output_type": "stream",
          "name": "stdout",
          "text": [
            "whale boat ship wind sea way captain line body world man mate time\n",
            "carpenter leviathan thing crew chase harpoon pequod\n"
          ]
        }
      ]
    },
    {
      "cell_type": "code",
      "source": [
        "text1.common_contexts(['monstrous','true'])"
      ],
      "metadata": {
        "colab": {
          "base_uri": "https://localhost:8080/"
        },
        "id": "LEf2bgQjBoxe",
        "outputId": "c50a2830-6d34-4a3d-e033-9ae95d649236"
      },
      "execution_count": 38,
      "outputs": [
        {
          "output_type": "stream",
          "name": "stdout",
          "text": [
            "the_pictures\n"
          ]
        }
      ]
    },
    {
      "cell_type": "code",
      "source": [
        "text4.dispersion_plot(['citizens','democracy','duties','America'])"
      ],
      "metadata": {
        "colab": {
          "base_uri": "https://localhost:8080/",
          "height": 295
        },
        "id": "6bBBwCx_CR5c",
        "outputId": "1978fe53-8b8d-4525-d6ed-807db37c4056"
      },
      "execution_count": 42,
      "outputs": [
        {
          "output_type": "display_data",
          "data": {
            "image/png": "[encoded data removed]",
            "text/plain": [
              "<Figure size 432x288 with 1 Axes>"
            ]
          },
          "metadata": {
            "needs_background": "light"
          }
        }
      ]
    }
  ]
}