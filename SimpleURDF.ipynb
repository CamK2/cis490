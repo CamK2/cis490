{
  "nbformat": 4,
  "nbformat_minor": 0,
  "metadata": {
    "colab": {
      "name": "SimpleURDF.ipynb",
      "provenance": [],
      "authorship_tag": "ABX9TyPIGosGCctfE291J5en2dmA",
      "include_colab_link": true
    },
    "kernelspec": {
      "name": "python3",
      "display_name": "Python 3"
    },
    "language_info": {
      "name": "python"
    }
  },
  "cells": [
    {
      "cell_type": "markdown",
      "metadata": {
        "id": "view-in-github",
        "colab_type": "text"
      },
      "source": [
        "<a href=\"https://colab.research.google.com/github/CamK2/cis490/blob/main/SimpleURDF.ipynb\" target=\"_parent\"><img src=\"https://colab.research.google.com/assets/colab-badge.svg\" alt=\"Open In Colab\"/></a>"
      ]
    },
    {
      "cell_type": "markdown",
      "source": [
        "Introduction to URDF using colab and pybullet\n",
        "\n",
        "**URDF = Uniform Robot Description Format** - extensible markup language for describing:\n",
        "1. Robot visual definition\n",
        "1. Robot physical/collision properties\n",
        "**pybullet** - physics simulation environment (a python wrapper for bullet)\n",
        "\n",
        "ffmpeg - video processor (produces video based on pybullet output)"
      ],
      "metadata": {
        "id": "a5i-mEDyEkwx"
      }
    },
    {
      "cell_type": "code",
      "source": [
        "# install pybullet in this VM/kernel\n",
        "!pip install pybullet==3.1.6 imageio-ffmpeg"
      ],
      "metadata": {
        "colab": {
          "base_uri": "https://localhost:8080/"
        },
        "id": "dhXRa0B9FcOg",
        "outputId": "9592cdc6-74db-4f92-ff24-f15d2a7cfa18"
      },
      "execution_count": 2,
      "outputs": [
        {
          "output_type": "stream",
          "name": "stdout",
          "text": [
            "Collecting pybullet==3.1.6\n",
            "  Downloading pybullet-3.1.6.tar.gz (79.0 MB)\n",
            "\u001b[K     |████████████████████████████████| 79.0 MB 69 kB/s \n",
            "\u001b[?25hCollecting imageio-ffmpeg\n",
            "  Downloading imageio_ffmpeg-0.4.5-py3-none-manylinux2010_x86_64.whl (26.9 MB)\n",
            "\u001b[K     |████████████████████████████████| 26.9 MB 1.4 MB/s \n",
            "\u001b[?25hBuilding wheels for collected packages: pybullet\n",
            "  Building wheel for pybullet (setup.py) ... \u001b[?25l\u001b[?25hdone\n",
            "  Created wheel for pybullet: filename=pybullet-3.1.6-cp37-cp37m-linux_x86_64.whl size=89748973 sha256=97deeae488400f1ff294581c23bf1555fc93c0b6fe63e2ed46439394d1383716\n",
            "  Stored in directory: /root/.cache/pip/wheels/93/56/70/77c5c40c50cb3853a1769afee04d3e73d5ff4437b9b1e14352\n",
            "Successfully built pybullet\n",
            "Installing collected packages: pybullet, imageio-ffmpeg\n",
            "Successfully installed imageio-ffmpeg-0.4.5 pybullet-3.1.6\n"
          ]
        }
      ]
    },
    {
      "cell_type": "code",
      "source": [
        "# import\n",
        "import pybullet\n",
        "import os\n",
        "import time\n",
        "import math\n",
        "import numpy as np\n",
        "from PIL import Image\n",
        "import matplotlib.pyplot as plt\n",
        "import pybullet as p\n",
        "import pybullet_data\n",
        "import cv2\n",
        "import imageio_ffmpeg\n",
        "from base64 import b64encode\n",
        "from IPython.display import HTML\n",
        "print('finished')"
      ],
      "metadata": {
        "colab": {
          "base_uri": "https://localhost:8080/"
        },
        "id": "3pEbV8RUGISH",
        "outputId": "7a4ac859-f822-4e4a-894e-1b0475260118"
      },
      "execution_count": 5,
      "outputs": [
        {
          "output_type": "stream",
          "name": "stdout",
          "text": [
            "finished\n"
          ]
        }
      ]
    },
    {
      "cell_type": "code",
      "source": [
        "# write a URDF file (URDF uses- \"look\" and \"touch\")\n",
        "my_urdf = '''\n",
        "<?xml version=\"1.0\"?>\n",
        "<robot name=\"myrobot\">\n",
        "  <link name=\"base_link\">\n",
        "    <visual>\n",
        "      <geometry>\n",
        "        <cylinder length=\"0.01\" radius=\"0.1\"/>\n",
        "      </geometry>\n",
        "      <material name=\"blue\">\n",
        "        <color rgba=\"0 0 0.8 1\"/>\n",
        "      </material>\n",
        "    </visual>\n",
        "    <collision>\n",
        "      <cylinder length=\"0.01\" radiud=\"0.1\"/>\n",
        "    </collision>\n",
        "    <inertial>\n",
        "      <mass value=\"10\"/>\n",
        "      <inertia ixx=\"1.0\" ixy=\"0.0\" ixz==\"0.0\" iyy=\"1.0\" iyz=\"0.0\" izz=\"1.0\"/>\n",
        "    </inertial>\n",
        "  </link>\n",
        "\n",
        "  <link name=\"arm\">\n",
        "\n",
        "  </link>\n",
        "\n",
        "  <joint name=\"base_to_arm\" type=\"revolute\">\n",
        "    <parent link=\"base_link\"/>\n",
        "    <child link=\"arm\"/>\n",
        "    <axis xyz=\"0 0 1\">\n",
        "    <origin rpy\"0 0 0\" xyz=\"0 0 0\"/>\n",
        "    limit effort=\"1000.0\" lower=\"0.0\" upper=\"3.14\" velocity=\"0.5\"/>\n",
        "  </joint>\n",
        "</robot>\n",
        "'''\n",
        "print(my_urdf)"
      ],
      "metadata": {
        "colab": {
          "base_uri": "https://localhost:8080/"
        },
        "id": "0KyIzKLoJI24",
        "outputId": "29b53d1c-67e2-4350-e1d6-2cb0c55aaec7"
      },
      "execution_count": 10,
      "outputs": [
        {
          "output_type": "stream",
          "name": "stdout",
          "text": [
            "\n",
            "<?xml version=\"1.0\"?>\n",
            "<robot name=\"myrobot\">\n",
            "  <link name=\"base_link\">\n",
            "    <visual>\n",
            "      <geometry>\n",
            "        <cylinder length=\"0.01\" radius=\"0.1\"/>\n",
            "      </geometry>\n",
            "      <material name=\"blue\">\n",
            "        <color rgba=\"0 0 0.8 1\"/>\n",
            "      </material>\n",
            "    </visual>\n",
            "    <collision>\n",
            "      <cylinder length=\"0.01\" radiud=\"0.1\"/>\n",
            "    </collision>\n",
            "    <inertial>\n",
            "      <mass value=\"10\"/>\n",
            "      <inertia ixx=\"1.0\" ixy=\"0.0\" ixz==\"0.0\" iyy=\"1.0\" iyz=\"0.0\" izz=\"1.0\"/>\n",
            "    </inertial>\n",
            "  </link>\n",
            "\n",
            "  <link name=\"arm\">\n",
            "\n",
            "  </link>\n",
            "\n",
            "  <joint name=\"base_to_arm\" type=\"revolute\">\n",
            "    <parent link=\"base_link\"/>\n",
            "    <child link=\"arm\"/>\n",
            "    <axis xyz=\"0 0 1\">\n",
            "    <origin rpy\"0 0 0\" xyz=\"0 0 0\"/>\n",
            "    limit effort=\"1000.0\" lower=\"0.0\"\n",
            "  </joint>\n",
            "</robot>\n",
            "\n"
          ]
        }
      ]
    },
    {
      "cell_type": "code",
      "source": [
        ""
      ],
      "metadata": {
        "id": "LYOJk9aIMNNS"
      },
      "execution_count": null,
      "outputs": []
    }
  ]
}